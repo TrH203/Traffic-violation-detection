{
 "cells": [
  {
   "cell_type": "markdown",
   "metadata": {},
   "source": [
    "This code use to enhance data, make image blur to enhance prediction of number-plate-detect model"
   ]
  },
  {
   "cell_type": "code",
   "execution_count": 2,
   "metadata": {},
   "outputs": [],
   "source": [
    "import cv2\n",
    "import numpy as np\n",
    "# import pandas as pd\n",
    "import os\n",
    "import shutil\n"
   ]
  },
  {
   "cell_type": "code",
   "execution_count": 5,
   "metadata": {},
   "outputs": [],
   "source": [
    "root_image = \"data/train/images\"\n",
    "root_label = \"data/train/labels\"\n",
    "\n",
    "\n",
    "for foldername, sub, filenames in os.walk(root_image):\n",
    "    for filename in filenames:\n",
    "        img = cv2.imread(os.path.join(foldername, filename))\n",
    "        if img.shape[0] > 70 and img.shape[1] > 70:\n",
    "            img = cv2.GaussianBlur(img, (35, 35), 0)\n",
    "        else:\n",
    "            img = cv2.GaussianBlur(img,(5,5),0)\n",
    "        cv2.imwrite(os.path.join(foldername,\"g_\" + filename),img)\n",
    "        # print(os.path.join(foldername, filnames[i]))\n",
    "        des = os.path.join(root_label, \"g_\" + filename.split(\".\")[0] + \".txt\")\n",
    "        shutil.copy(os.path.join(root_label, filename.split(\".\")[0] + \".txt\"), des)\n",
    "        # h,w = img.shape[:2]\n",
    "        # with open(os.path.join(root_label, filnames[i].split(\".\")[0] + \".txt\"), \"r\") as f: # filnames[i].split(\".\")[0]\n",
    "            # for line in f.readlines():\n",
    "                # line = line.strip().split()\n",
    "                # text = line[0]\n",
    "                # x1, y1, x2, y2 = int(float(line[1]) * w), int(float(line[2])*h), int(float(line[3])*w), int(float(line[4])*h)\n",
    "                # print(x1, y1, x2, y2)\n",
    "        #         cv2.rectangle(img, (x1-x2//2, y1-y2//2), (x1+x2//2, y1+y2//2), (0, 0, 255), 1)\n",
    "        #         cv2.putText(img, text, (x1, y1), cv2.FONT_HERSHEY_SIMPLEX, 1, (0, 255, 0), 1)\n",
    "        # img = cv2.resize(img, (224, 224))\n",
    "        "
   ]
  },
  {
   "cell_type": "code",
   "execution_count": null,
   "metadata": {},
   "outputs": [],
   "source": []
  }
 ],
 "metadata": {
  "kernelspec": {
   "display_name": "Python 3",
   "language": "python",
   "name": "python3"
  },
  "language_info": {
   "codemirror_mode": {
    "name": "ipython",
    "version": 3
   },
   "file_extension": ".py",
   "mimetype": "text/x-python",
   "name": "python",
   "nbconvert_exporter": "python",
   "pygments_lexer": "ipython3",
   "version": "3.11.5"
  }
 },
 "nbformat": 4,
 "nbformat_minor": 2
}
